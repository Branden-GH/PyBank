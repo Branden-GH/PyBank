{
 "cells": [
  {
   "cell_type": "code",
   "execution_count": 264,
   "metadata": {},
   "outputs": [],
   "source": [
    "from pathlib import Path"
   ]
  },
  {
   "cell_type": "code",
   "execution_count": 265,
   "metadata": {},
   "outputs": [],
   "source": [
    "import csv"
   ]
  },
  {
   "cell_type": "code",
   "execution_count": 266,
   "metadata": {},
   "outputs": [],
   "source": [
    "csvpath = Path('budget_data.csv')"
   ]
  },
  {
   "cell_type": "code",
   "execution_count": 267,
   "metadata": {},
   "outputs": [],
   "source": [
    "profitloss = 0\n",
    "profit = []\n",
    "profit_diff = []\n",
    "line_num = 0\n",
    "date = []\n",
    "count = 0        "
   ]
  },
  {
   "cell_type": "code",
   "execution_count": 268,
   "metadata": {},
   "outputs": [],
   "source": [
    "with open(csvpath, 'r') as csvfile:\n",
    "\n",
    "    csvreader = csv.reader(csvfile, delimiter=',')\n",
    "   \n",
    "    \n",
    "    header = next(csvreader)\n",
    "    \n",
    "    for row in csvreader:\n",
    "        \n",
    "        \n",
    "        line_num += 1\n",
    "        profitloss += int(row[1])\n",
    "        profit.append(int(row[1]))\n",
    "        date.append(row[0])\n",
    "        \n",
    "    for i in range(1, len(profit)):\n",
    "        profit_diff.append(profit[i] - profit[i-1])\n",
    "        avg_profit_change = sum(profit_diff)/len(profit_diff)\n",
    "        \n",
    "        max_profit_change = max(profit_diff)\n",
    "        min_profit_change = min(profit_diff)\n",
    "        \n",
    "        max_profit_date_change = str(date[profit_diff.index(max(profit_diff))])\n",
    "        min_profit_date_change = str(date[profit_diff.index(min(profit_diff))])\n",
    "        \n",
    "        Title = \"Financial Analysis\"\n",
    "        x = \"----------------------------\"  \n",
    "             \n",
    "        \n",
    "        "
   ]
  },
  {
   "cell_type": "code",
   "execution_count": 275,
   "metadata": {},
   "outputs": [
    {
     "name": "stdout",
     "output_type": "stream",
     "text": [
      "Financial Analysis\n",
      "----------------------------\n",
      "Total Months: 86\n",
      "Total: $38382578\n",
      "Average Change: $-2315.12\n",
      "Greatest increase in profit: Jan-2012 $1926159\n",
      "Greatest decrease in profit: Aug-2013 $-2196167\n"
     ]
    }
   ],
   "source": [
    "print(f\"{Title}\")\n",
    "print(f\"{x}\")\n",
    "print(f\"Total Months: {line_num}\")\n",
    "print(f\"Total: ${profitloss}\")\n",
    "print(f\"Average Change: ${avg_profit_change: .2f}\")\n",
    "print(f\"Greatest increase in profit: {max_profit_date_change} ${max_profit_change}\")\n",
    "print(f\"Greatest decrease in profit: {min_profit_date_change} ${min_profit_change}\")"
   ]
  },
  {
   "cell_type": "code",
   "execution_count": 276,
   "metadata": {},
   "outputs": [],
   "source": [
    "with open(\"Financial Analysis.txt\", \"w\") as f:\n",
    "    print(f\"{Title}\", file = f)\n",
    "    print(f\"{x}\", file = f)\n",
    "    print(f\"Total Months: {line_num}\", file = f)\n",
    "    print(f\"Total: ${profitloss}\", file = f)\n",
    "    print(f\"Average Change: ${avg_profit_change: .2f}\", file = f)\n",
    "    print(f\"Greatest increase in profit: {max_profit_date_change} ${max_profit_change}\", file = f)\n",
    "    print(f\"Greatest decrease in profit: {min_profit_date_change} ${min_profit_change}\", file = f)"
   ]
  },
  {
   "cell_type": "code",
   "execution_count": null,
   "metadata": {},
   "outputs": [],
   "source": []
  }
 ],
 "metadata": {
  "kernelspec": {
   "display_name": "Python 3",
   "language": "python",
   "name": "python3"
  },
  "language_info": {
   "codemirror_mode": {
    "name": "ipython",
    "version": 3
   },
   "file_extension": ".py",
   "mimetype": "text/x-python",
   "name": "python",
   "nbconvert_exporter": "python",
   "pygments_lexer": "ipython3",
   "version": "3.8.5"
  }
 },
 "nbformat": 4,
 "nbformat_minor": 4
}
